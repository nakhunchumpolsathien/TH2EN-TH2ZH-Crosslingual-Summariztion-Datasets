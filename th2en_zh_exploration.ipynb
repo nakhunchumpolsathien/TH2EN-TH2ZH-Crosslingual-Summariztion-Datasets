{
  "nbformat": 4,
  "nbformat_minor": 0,
  "metadata": {
    "colab": {
      "name": "th2en-zh-exploration.ipynb",
      "provenance": [],
      "collapsed_sections": []
    },
    "kernelspec": {
      "name": "python3",
      "display_name": "Python 3"
    }
  },
  "cells": [
    {
      "cell_type": "code",
      "metadata": {
        "id": "0b-ig5J11Hl4"
      },
      "source": [
        "%%capture\n",
        "\n",
        "import pandas as pd\n",
        "from tqdm.notebook import tqdm"
      ],
      "execution_count": 1,
      "outputs": []
    },
    {
      "cell_type": "code",
      "metadata": {
        "id": "xdB-H6dd1ulU",
        "outputId": "200bca71-7fc5-4317-e06d-45825bb05fbc",
        "colab": {
          "base_uri": "https://localhost:8080/"
        }
      },
      "source": [
        "# mount drive\n",
        "\n",
        "from google.colab import drive\n",
        "drive.mount('/content/drive')"
      ],
      "execution_count": 2,
      "outputs": [
        {
          "output_type": "stream",
          "text": [
            "Mounted at /content/drive\n"
          ],
          "name": "stdout"
        }
      ]
    },
    {
      "cell_type": "markdown",
      "metadata": {
        "id": "rZDxm7Rd2C3z"
      },
      "source": [
        "# Dataset elements"
      ]
    },
    {
      "cell_type": "code",
      "metadata": {
        "id": "TLML70Q_2PjI",
        "outputId": "084c69ae-e889-435e-9a90-23bf795e33c9",
        "colab": {
          "base_uri": "https://localhost:8080/"
        }
      },
      "source": [
        "# read csv\n",
        "train_th2en_df = pd.read_csv('th2en_full.csv', encoding = 'utf-8')\n",
        "train_th2zh_df = pd.read_csv('th2zh_full.csv', encoding = 'utf-8')\n",
        "test_df = pd.read_csv('test_full.csv', encoding = 'utf-8')\n",
        "valid_df = pd.read_csv('valid_full.csv', encoding = 'utf-8')"
      ],
      "execution_count": 29,
      "outputs": [
        {
          "output_type": "stream",
          "text": [
            "/usr/local/lib/python3.6/dist-packages/IPython/core/interactiveshell.py:2718: DtypeWarning: Columns (4) have mixed types.Specify dtype option on import or set low_memory=False.\n",
            "  interactivity=interactivity, compiler=compiler, result=result)\n"
          ],
          "name": "stderr"
        }
      ]
    },
    {
      "cell_type": "markdown",
      "metadata": {
        "id": "jHLKJOZU4x3S"
      },
      "source": [
        "**Notation**\\\n",
        "*Columns in traning sets*\\\n",
        "`th_body` : Thai article text\\\n",
        "`th_sum` : Corresponding Thai summary \\\n",
        "`en_body`, `zh_body`: Translated article text \\\n",
        "`en_summary`, `zh_sum`: Translated summary \\\n",
        "`en2th` : Back translation result of `en_summary`/  `zh_sum`: \\\n",
        "`url` : Source url of the original article\n",
        "\n",
        "\n",
        "\n",
        "---\n",
        "\n",
        "\n",
        "*Aditional columns in test and validation set*\\\n",
        "Similar to `eng_sum` & `zh_sum`, the `eng_hm_ref` and\t`zh_hm_ref` are the translation of Thai summary but used different (better) translation service.\\\n",
        "Note that in the experiment we used `eng_sum` & `zh_sum` *not*  `eng_hm_ref` and\t`zh_hm_ref`."
      ]
    },
    {
      "cell_type": "code",
      "metadata": {
        "id": "C17HWvzh4Bx7",
        "outputId": "f1f1c0f6-0425-4f3c-ee18-1bb1be7b2fa2",
        "colab": {
          "base_uri": "https://localhost:8080/",
          "height": 264
        }
      },
      "source": [
        "# Training Set (Thai-to-English) \n",
        "print('Training set of Th2En contains :', len(train_df), 'articles.') \n",
        "train_df.sample(n=2)"
      ],
      "execution_count": 28,
      "outputs": [
        {
          "output_type": "stream",
          "text": [
            "Training set of Th2En contains : 310926 articles.\n"
          ],
          "name": "stdout"
        },
        {
          "output_type": "execute_result",
          "data": {
            "text/html": [
              "<div>\n",
              "<style scoped>\n",
              "    .dataframe tbody tr th:only-of-type {\n",
              "        vertical-align: middle;\n",
              "    }\n",
              "\n",
              "    .dataframe tbody tr th {\n",
              "        vertical-align: top;\n",
              "    }\n",
              "\n",
              "    .dataframe thead th {\n",
              "        text-align: right;\n",
              "    }\n",
              "</style>\n",
              "<table border=\"1\" class=\"dataframe\">\n",
              "  <thead>\n",
              "    <tr style=\"text-align: right;\">\n",
              "      <th></th>\n",
              "      <th>th_body</th>\n",
              "      <th>th_sum</th>\n",
              "      <th>en_body</th>\n",
              "      <th>en_summary</th>\n",
              "      <th>en2th</th>\n",
              "      <th>url</th>\n",
              "    </tr>\n",
              "  </thead>\n",
              "  <tbody>\n",
              "    <tr>\n",
              "      <th>251412</th>\n",
              "      <td>เครือข่ายนักวิชาการเอชไอเอ (HIA Consortium) ร่...</td>\n",
              "      <td>ระบุพบข้อบกพร่องในร่างรายงานผลการศึกษาด้านสิ่...</td>\n",
              "      <td>HIA Scholars Network (HIA Consortium) in colla...</td>\n",
              "      <td>Identify defects in the draft environmental an...</td>\n",
              "      <td>ระบุข้อบกพร่องในร่างรายงานการศึกษาด้านสิ่งแวดล...</td>\n",
              "      <td>https://news.thaipbs.or.th/content/123892</td>\n",
              "    </tr>\n",
              "    <tr>\n",
              "      <th>262896</th>\n",
              "      <td>ชาวเมืองหลิวชิว ซึ่งเป็นบ้านของชาวประมงไต้หวัน...</td>\n",
              "      <td>ชาวไต้หวันประท้วงแสดงความไม่พอใจทางการฟิลิปปิ...</td>\n",
              "      <td>Residents of Liuqiu, home to a Taiwanese fishe...</td>\n",
              "      <td>Taiwanese protesting against Philippine author...</td>\n",
              "      <td>ประท้วงไต้หวันต่อต้านเจ้าหน้าที่ฟิลิปปินส์ที่ย...</td>\n",
              "      <td>https://news.thaipbs.or.th/content/170087</td>\n",
              "    </tr>\n",
              "  </tbody>\n",
              "</table>\n",
              "</div>"
            ],
            "text/plain": [
              "                                                  th_body  ...                                        url\n",
              "251412  เครือข่ายนักวิชาการเอชไอเอ (HIA Consortium) ร่...  ...  https://news.thaipbs.or.th/content/123892\n",
              "262896  ชาวเมืองหลิวชิว ซึ่งเป็นบ้านของชาวประมงไต้หวัน...  ...  https://news.thaipbs.or.th/content/170087\n",
              "\n",
              "[2 rows x 6 columns]"
            ]
          },
          "metadata": {
            "tags": []
          },
          "execution_count": 28
        }
      ]
    },
    {
      "cell_type": "code",
      "metadata": {
        "id": "d0Y3MXtTDkTd",
        "outputId": "28b8e0cc-ed81-4adb-fc8a-63f8ecdccebf",
        "colab": {
          "base_uri": "https://localhost:8080/",
          "height": 264
        }
      },
      "source": [
        "# Training Set (Thai-to-Chinese) \n",
        "print('Training set of Th2Zh contains :', len(train_th2zh_df), 'articles.') \n",
        "train_th2zh_df.sample(n=2)"
      ],
      "execution_count": 32,
      "outputs": [
        {
          "output_type": "stream",
          "text": [
            "Training set of Th2Zh contains : 310926 articles.\n"
          ],
          "name": "stdout"
        },
        {
          "output_type": "execute_result",
          "data": {
            "text/html": [
              "<div>\n",
              "<style scoped>\n",
              "    .dataframe tbody tr th:only-of-type {\n",
              "        vertical-align: middle;\n",
              "    }\n",
              "\n",
              "    .dataframe tbody tr th {\n",
              "        vertical-align: top;\n",
              "    }\n",
              "\n",
              "    .dataframe thead th {\n",
              "        text-align: right;\n",
              "    }\n",
              "</style>\n",
              "<table border=\"1\" class=\"dataframe\">\n",
              "  <thead>\n",
              "    <tr style=\"text-align: right;\">\n",
              "      <th></th>\n",
              "      <th>th_body</th>\n",
              "      <th>th_sum</th>\n",
              "      <th>zh_body</th>\n",
              "      <th>zh_sum</th>\n",
              "      <th>zh2th</th>\n",
              "      <th>url</th>\n",
              "    </tr>\n",
              "  </thead>\n",
              "  <tbody>\n",
              "    <tr>\n",
              "      <th>152947</th>\n",
              "      <td>เมื่อเวลา 16.00 น. วันที่ 25 ก.พ.59 ร.ต.อ.พงษ์...</td>\n",
              "      <td>พ่อค้ายาบ้าที่นครนายก ถูกตำรวจล่อซื้อ แต่ไหวทั...</td>\n",
              "      <td>下午 4 点 7 月 25 日。 周二：59 上午周二 蓬纳拉·马翁诺克副总裁 ((注入) ...</td>\n",
              "      <td>那空西育的一名甲基安非他明贩子受到警察的诱惑，但他能够骑车。 他从主要道路上的小巷跑了。 他...</td>\n",
              "      <td>NaN</td>\n",
              "      <td>https://www.thairath.co.th/content/582487</td>\n",
              "    </tr>\n",
              "    <tr>\n",
              "      <th>68591</th>\n",
              "      <td>การซ้อมครั้งสุดท้ายก่อนเกมอุ่นเครื่อง ซิโก้ เก...</td>\n",
              "      <td>ก่อนเกมอุ่นเครื่องระหว่างนักเตะทีมชาติไทยชุดใ...</td>\n",
              "      <td>在热身赛前的最后练习中，Zico 荣誉 Senamuang 专注于球队左右线，完成了点球区的...</td>\n",
              "      <td>今天晚上（5 月 20 日），泰国国家队球员对朝鲜进行热身赛。 泰国教练斯塔夫观看了朝鲜的比...</td>\n",
              "      <td>NaN</td>\n",
              "      <td>https://news.thaipbs.or.th/content/2087</td>\n",
              "    </tr>\n",
              "  </tbody>\n",
              "</table>\n",
              "</div>"
            ],
            "text/plain": [
              "                                                  th_body  ...                                        url\n",
              "152947  เมื่อเวลา 16.00 น. วันที่ 25 ก.พ.59 ร.ต.อ.พงษ์...  ...  https://www.thairath.co.th/content/582487\n",
              "68591   การซ้อมครั้งสุดท้ายก่อนเกมอุ่นเครื่อง ซิโก้ เก...  ...    https://news.thaipbs.or.th/content/2087\n",
              "\n",
              "[2 rows x 6 columns]"
            ]
          },
          "metadata": {
            "tags": []
          },
          "execution_count": 32
        }
      ]
    },
    {
      "cell_type": "code",
      "metadata": {
        "id": "OB-tGbGj_jG7",
        "outputId": "3740b932-74f3-4b9b-a604-3b9fc3e4a1cb",
        "colab": {
          "base_uri": "https://localhost:8080/",
          "height": 539
        }
      },
      "source": [
        "# Test set\n",
        "print('Test set contains :', len(test_df), 'articles.') \n",
        "test_df.sample(n=2)"
      ],
      "execution_count": 17,
      "outputs": [
        {
          "output_type": "stream",
          "text": [
            "Test set contains : 3000 articles.\n"
          ],
          "name": "stdout"
        },
        {
          "output_type": "execute_result",
          "data": {
            "text/html": [
              "<div>\n",
              "<style scoped>\n",
              "    .dataframe tbody tr th:only-of-type {\n",
              "        vertical-align: middle;\n",
              "    }\n",
              "\n",
              "    .dataframe tbody tr th {\n",
              "        vertical-align: top;\n",
              "    }\n",
              "\n",
              "    .dataframe thead th {\n",
              "        text-align: right;\n",
              "    }\n",
              "</style>\n",
              "<table border=\"1\" class=\"dataframe\">\n",
              "  <thead>\n",
              "    <tr style=\"text-align: right;\">\n",
              "      <th></th>\n",
              "      <th>th_body</th>\n",
              "      <th>th_sum</th>\n",
              "      <th>eng_body</th>\n",
              "      <th>eng_sum</th>\n",
              "      <th>zh_body</th>\n",
              "      <th>zh_sum</th>\n",
              "      <th>en2th</th>\n",
              "      <th>zh2th</th>\n",
              "      <th>eng_hm_ref</th>\n",
              "      <th>zh_hm_ref</th>\n",
              "      <th>url</th>\n",
              "    </tr>\n",
              "  </thead>\n",
              "  <tbody>\n",
              "    <tr>\n",
              "      <th>396</th>\n",
              "      <td>พบโจรหนุ่มบุกเดี่ยวชิงทอง 70 บาทที่บางบัวทอง เ...</td>\n",
              "      <td>พบโจรหนุ่มบุกเดี่ยวชิงทอง 70 บาทที่บางบัวทอง เ...</td>\n",
              "      <td>The former contractor, but the business ruined...</td>\n",
              "      <td>The former contractor, but the business ruined...</td>\n",
              "      <td>前承包商，但业务毁了。 之后的原因采取了黄金收集在家里。 第 27 天：事件发生在耀瓦拉特·...</td>\n",
              "      <td>前承包商，但业务毁了。 之后的原因采取了黄金收集在家里。</td>\n",
              "      <td>อดีตผู้รับเหมา, แต่ธุรกิจเจ๊ง. หลังจากที่สาเหต...</td>\n",
              "      <td>อดีตผู้รับเหมา, แต่ธุรกิจเจ๊ง. หลังจากที่สาเหต...</td>\n",
              "      <td>Meet a young robber to win a single gold for 7...</td>\n",
              "      <td>在Bang Bua Thong与一个年轻的强盗会面，赢得70泰铢的单金 是前承包商 但是企业...</td>\n",
              "      <td>https://www.thairath.co.th/news/local/central/...</td>\n",
              "    </tr>\n",
              "    <tr>\n",
              "      <th>545</th>\n",
              "      <td>โคราชเผชิญภัยแล้งหนัก น้ำเขื่อนใหญ่ 4 แห่งวิกฤ...</td>\n",
              "      <td>โคราชเผชิญภัยแล้งหนัก น้ำเขื่อนใหญ่ 4 แห่งวิกฤ...</td>\n",
              "      <td>Korat faced a heavy drought, the main dam of 4...</td>\n",
              "      <td>Korat faced a heavy drought, the main dam of 4...</td>\n",
              "      <td>科拉特面临严重的干旱，4 大危机的主要坝。 该省加快了对几个村庄的供水。 无成加入几乎整个地...</td>\n",
              "      <td>Korat 面临严重的干旱，4 大危机的主要坝。 该省加快了对几个村庄的供水。 无成加入几乎...</td>\n",
              "      <td>โคราชประสบภัยแล้งอย่างหนัก เขื่อนหลักจากวิกฤตก...</td>\n",
              "      <td>โคราชเผชิญหน้ากับภัยแล้งอย่างรุนแรง เป็นเขื่อน...</td>\n",
              "      <td>Korat faces heavy drought The 4 major dams in ...</td>\n",
              "      <td>呵叻面临严重干旱 该省的4个主要水坝加快了向许多村庄的供水，非宋区（Uam）几乎覆盖了整个地...</td>\n",
              "      <td>https://www.thairath.co.th/news/local/northeas...</td>\n",
              "    </tr>\n",
              "  </tbody>\n",
              "</table>\n",
              "</div>"
            ],
            "text/plain": [
              "                                               th_body  ...                                                url\n",
              "396  พบโจรหนุ่มบุกเดี่ยวชิงทอง 70 บาทที่บางบัวทอง เ...  ...  https://www.thairath.co.th/news/local/central/...\n",
              "545  โคราชเผชิญภัยแล้งหนัก น้ำเขื่อนใหญ่ 4 แห่งวิกฤ...  ...  https://www.thairath.co.th/news/local/northeas...\n",
              "\n",
              "[2 rows x 11 columns]"
            ]
          },
          "metadata": {
            "tags": []
          },
          "execution_count": 17
        }
      ]
    },
    {
      "cell_type": "code",
      "metadata": {
        "id": "oVYewEYmAsXs",
        "outputId": "6d4aa1ef-fb79-423d-d200-0662fc640c39",
        "colab": {
          "base_uri": "https://localhost:8080/",
          "height": 454
        }
      },
      "source": [
        "# Validation set\n",
        "print('validation set contains :', len(valid_df), 'articles.') \n",
        "valid_df.sample(n=2)"
      ],
      "execution_count": 27,
      "outputs": [
        {
          "output_type": "stream",
          "text": [
            "validation set contains : 3000 articles.\n"
          ],
          "name": "stdout"
        },
        {
          "output_type": "execute_result",
          "data": {
            "text/html": [
              "<div>\n",
              "<style scoped>\n",
              "    .dataframe tbody tr th:only-of-type {\n",
              "        vertical-align: middle;\n",
              "    }\n",
              "\n",
              "    .dataframe tbody tr th {\n",
              "        vertical-align: top;\n",
              "    }\n",
              "\n",
              "    .dataframe thead th {\n",
              "        text-align: right;\n",
              "    }\n",
              "</style>\n",
              "<table border=\"1\" class=\"dataframe\">\n",
              "  <thead>\n",
              "    <tr style=\"text-align: right;\">\n",
              "      <th></th>\n",
              "      <th>th_body</th>\n",
              "      <th>th_sum</th>\n",
              "      <th>eng_body</th>\n",
              "      <th>eng_sum</th>\n",
              "      <th>zh_body</th>\n",
              "      <th>zh_sum</th>\n",
              "      <th>en2th</th>\n",
              "      <th>zh2th</th>\n",
              "      <th>eng_hm_ref</th>\n",
              "      <th>zh_hm_ref</th>\n",
              "      <th>url</th>\n",
              "    </tr>\n",
              "  </thead>\n",
              "  <tbody>\n",
              "    <tr>\n",
              "      <th>1154</th>\n",
              "      <td>วันที่ 8 มิ.ย. 2563 กรมอุตุนิยมวิทยาพยากรณ์อาก...</td>\n",
              "      <td>ไทยยังคงมีฝนตกต่อเนื่อง และตกหนักบางแห่งในภาคต...</td>\n",
              "      <td>June 8. Nov. Thailand continues to rain with h...</td>\n",
              "      <td>Thailand continues to rain and heavy falls som...</td>\n",
              "      <td>六月八日 11 月泰国继续下雨，在东部地区、曼谷及其郊区以及西南部，由于低压覆盖孟加拉湾上游...</td>\n",
              "      <td>泰国继续降雨和大瀑布在曼谷东部的某处。, 包括南部, 由于低压补丁覆盖孟加拉湾.</td>\n",
              "      <td>ประเทศไทยยังคงมีฝนตกและตกหนักอยู่ที่ไหนสักแห่ง...</td>\n",
              "      <td>ฝนยังคงดำเนินต่อไปในประเทศไทยและน้ำตกใหญ่บางแห...</td>\n",
              "      <td>Thailand still has rain continuously. And heav...</td>\n",
              "      <td>泰国仍然持续下雨。 而且在曼谷东部地区（包括南部地区）的某些地方也很沉重 由于低压电池覆盖了...</td>\n",
              "      <td>https://www.thairath.co.th/news/local/bangkok/...</td>\n",
              "    </tr>\n",
              "    <tr>\n",
              "      <th>2099</th>\n",
              "      <td>กรมธนารักษ์ เสริมมาตรการป้องกัน และช่วยเหลือผู...</td>\n",
              "      <td>กรมธนารักษ์ เสริมมาตรการป้องกัน และช่วยเหลือผู...</td>\n",
              "      <td>The Department of Treasury adds measures to pr...</td>\n",
              "      <td>The Treasury Department complements preventive...</td>\n",
              "      <td>财政部增加了措施，以防止和援助 Rathaphasut 的租户，部门工作人员和受 Kovd-...</td>\n",
              "      <td>财政部补充预防措施，并帮助 Rajapaksa 的租户、部门人员和受 Kovid-19 影响...</td>\n",
              "      <td>กรมธนารักษ์เสริมมาตรการป้องกันและช่วยผู้เช่าที...</td>\n",
              "      <td>กระทรวงการคลังเสริมข้อควรระวังและช่วยผู้เช่า บ...</td>\n",
              "      <td>The Treasury Department has added preventive m...</td>\n",
              "      <td>财政部增加了预防措施。 并在州财产，人员，部门和受Covid-19影响的人中协助租户 准备通...</td>\n",
              "      <td>https://www.thairath.co.th/news/local/bangkok/...</td>\n",
              "    </tr>\n",
              "  </tbody>\n",
              "</table>\n",
              "</div>"
            ],
            "text/plain": [
              "                                                th_body  ...                                                url\n",
              "1154  วันที่ 8 มิ.ย. 2563 กรมอุตุนิยมวิทยาพยากรณ์อาก...  ...  https://www.thairath.co.th/news/local/bangkok/...\n",
              "2099  กรมธนารักษ์ เสริมมาตรการป้องกัน และช่วยเหลือผู...  ...  https://www.thairath.co.th/news/local/bangkok/...\n",
              "\n",
              "[2 rows x 11 columns]"
            ]
          },
          "metadata": {
            "tags": []
          },
          "execution_count": 27
        }
      ]
    }
  ]
}